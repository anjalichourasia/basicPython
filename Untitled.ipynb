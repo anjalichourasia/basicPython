{
 "cells": [
  {
   "cell_type": "code",
   "execution_count": 3,
   "metadata": {},
   "outputs": [
    {
     "data": {
      "text/plain": [
       "'list-same or differnt type of datatype\\n//list[]\\n//dictonaries{}\\n//muable=not change\\n//immutable=cannot change\\n//tuples-immutable{}\\n//set-unordered collection key value pair (\"a\",\"b\")\\n'"
      ]
     },
     "execution_count": 3,
     "metadata": {},
     "output_type": "execute_result"
    }
   ],
   "source": [
    "\"\"\"list-same or differnt type of datatype\n",
    "//list[]\n",
    "//dictonaries{}\n",
    "//muable=not change\n",
    "//immutable=cannot change\n",
    "//tuples-immutable{}\n",
    "//set-unordered collection key value pair (\"a\",\"b\")\n",
    "\"\"\""
   ]
  },
  {
   "cell_type": "code",
   "execution_count": 4,
   "metadata": {},
   "outputs": [
    {
     "name": "stdout",
     "output_type": "stream",
     "text": [
      "Hello, World!\n"
     ]
    }
   ],
   "source": [
    "print(\"Hello, World!\")"
   ]
  },
  {
   "cell_type": "code",
   "execution_count": 5,
   "metadata": {},
   "outputs": [
    {
     "name": "stdout",
     "output_type": "stream",
     "text": [
      "Five is greater than two!\n"
     ]
    }
   ],
   "source": [
    "#Python uses indentation to indicate a block of code.\n",
    "if 5 > 2:\n",
    "  print(\"Five is greater than two!\")"
   ]
  },
  {
   "cell_type": "code",
   "execution_count": 6,
   "metadata": {},
   "outputs": [
    {
     "data": {
      "text/plain": [
       "'Python will give you an error if you skip the indentation:\\n\\nExample\\nif 5 > 2:\\nprint(\"Five is greater than two!\")\\n'"
      ]
     },
     "execution_count": 6,
     "metadata": {},
     "output_type": "execute_result"
    }
   ],
   "source": [
    "'''Python will give you an error if you skip the indentation:\n",
    "\n",
    "Example\n",
    "if 5 > 2:\n",
    "print(\"Five is greater than two!\")\n",
    "'''"
   ]
  },
  {
   "cell_type": "code",
   "execution_count": 7,
   "metadata": {},
   "outputs": [
    {
     "name": "stdout",
     "output_type": "stream",
     "text": [
      "5\n",
      "John\n"
     ]
    }
   ],
   "source": [
    "x = 5\n",
    "y = \"John\"\n",
    "print(x)\n",
    "print(y)\n",
    "#If you try to combine a string and a number, Python will give you an error:"
   ]
  },
  {
   "cell_type": "code",
   "execution_count": 8,
   "metadata": {},
   "outputs": [
    {
     "name": "stdout",
     "output_type": "stream",
     "text": [
      "<class 'int'>\n",
      "<class 'float'>\n",
      "<class 'complex'>\n"
     ]
    }
   ],
   "source": [
    "x = 1    # int\n",
    "y = 2.8  # float\n",
    "z = 1j   # complex\n",
    "#To verify the type of any object in Python, use the type() function:\n",
    "print(type(x))\n",
    "print(type(y))\n",
    "print(type(z))"
   ]
  },
  {
   "cell_type": "code",
   "execution_count": 9,
   "metadata": {},
   "outputs": [
    {
     "name": "stdout",
     "output_type": "stream",
     "text": [
      "e\n"
     ]
    }
   ],
   "source": [
    "a = \"Hello, World!\"\n",
    "print(a[1])#when we give index "
   ]
  },
  {
   "cell_type": "code",
   "execution_count": 10,
   "metadata": {},
   "outputs": [
    {
     "name": "stdout",
     "output_type": "stream",
     "text": [
      "llo\n"
     ]
    }
   ],
   "source": [
    "b = \"Hello, World!\"\n",
    "print(b[2:5])#start with index 2 and end with index 4 print only 2,3,4"
   ]
  },
  {
   "cell_type": "code",
   "execution_count": 11,
   "metadata": {},
   "outputs": [
    {
     "name": "stdout",
     "output_type": "stream",
     "text": [
      "Hello, World!\n"
     ]
    }
   ],
   "source": [
    "#The strip() method removes any whitespace from the beginning or the end:\n",
    "\n",
    "a = \" Hello, World! \"\n",
    "print(a.strip()) # returns \"Hello, World!\""
   ]
  },
  {
   "cell_type": "code",
   "execution_count": 12,
   "metadata": {},
   "outputs": [
    {
     "name": "stdout",
     "output_type": "stream",
     "text": [
      "15\n"
     ]
    }
   ],
   "source": [
    "print(len(a))"
   ]
  },
  {
   "cell_type": "code",
   "execution_count": 13,
   "metadata": {},
   "outputs": [
    {
     "name": "stdout",
     "output_type": "stream",
     "text": [
      " hello, world! \n"
     ]
    }
   ],
   "source": [
    "print(a.lower())"
   ]
  },
  {
   "cell_type": "code",
   "execution_count": 14,
   "metadata": {},
   "outputs": [
    {
     "name": "stdout",
     "output_type": "stream",
     "text": [
      " Jello, World! \n"
     ]
    }
   ],
   "source": [
    "print(a.replace(\"H\", \"J\"))"
   ]
  },
  {
   "cell_type": "code",
   "execution_count": 15,
   "metadata": {},
   "outputs": [
    {
     "name": "stdout",
     "output_type": "stream",
     "text": [
      "[' Hello', ' World! ']\n"
     ]
    }
   ],
   "source": [
    "# split() method splits the string into substrings if it finds instances of the separator\n",
    "print(a.split(\",\"))"
   ]
  },
  {
   "cell_type": "code",
   "execution_count": 16,
   "metadata": {},
   "outputs": [
    {
     "name": "stdout",
     "output_type": "stream",
     "text": [
      "Enter your name:\n",
      "admin\n",
      "Hello,  admin\n"
     ]
    }
   ],
   "source": [
    "#using the input() method, the program prints the name to the screen\n",
    "print(\"Enter your name:\")\n",
    "x = input()\n",
    "print(\"Hello, \", x)"
   ]
  },
  {
   "cell_type": "code",
   "execution_count": 17,
   "metadata": {},
   "outputs": [
    {
     "name": "stdout",
     "output_type": "stream",
     "text": [
      "False\n"
     ]
    }
   ],
   "source": [
    "'''operator\n",
    "\n",
    "Arithmetic operators\n",
    "Assignment operators\n",
    "Comparison operators\n",
    "Logical operators\n",
    "Identity operators\n",
    "Membership operators\n",
    "Bitwise operators\n",
    "'''\n",
    "x = 5\n",
    "y = 3\n",
    "\n",
    "print(x == y)\n",
    "\n",
    "# returns False because 5 is not equal to 3"
   ]
  },
  {
   "cell_type": "code",
   "execution_count": 18,
   "metadata": {},
   "outputs": [
    {
     "name": "stdout",
     "output_type": "stream",
     "text": [
      "['apple', 'banana', 'cherry']\n",
      "banana\n"
     ]
    }
   ],
   "source": [
    "#A list is a collection which is ordered and changeable. In Python lists are written with square brackets.\n",
    "thislist = [\"apple\", \"banana\", \"cherry\"]\n",
    "print(thislist)\n",
    "print(thislist[1])"
   ]
  },
  {
   "cell_type": "code",
   "execution_count": 19,
   "metadata": {},
   "outputs": [
    {
     "name": "stdout",
     "output_type": "stream",
     "text": [
      "0\n",
      "1\n",
      "2\n",
      "3\n",
      "4\n",
      "5\n"
     ]
    }
   ],
   "source": [
    "#1st parameter default 0 else starting position\n",
    "#2 parameter start,end with -1 \n",
    "#3 parameter start end decrement\n",
    "for x in range(6):\n",
    "    print(x)"
   ]
  },
  {
   "cell_type": "code",
   "execution_count": 20,
   "metadata": {},
   "outputs": [
    {
     "name": "stdout",
     "output_type": "stream",
     "text": [
      "10\n",
      "11\n",
      "12\n",
      "13\n",
      "14\n",
      "15\n",
      "16\n",
      "17\n",
      "18\n",
      "19\n",
      "20\n"
     ]
    }
   ],
   "source": [
    "for x in range(10,21):\n",
    "    print(x)"
   ]
  },
  {
   "cell_type": "code",
   "execution_count": 21,
   "metadata": {},
   "outputs": [
    {
     "name": "stdout",
     "output_type": "stream",
     "text": [
      "20\n",
      "19\n",
      "18\n",
      "17\n",
      "16\n",
      "15\n",
      "14\n",
      "13\n",
      "12\n",
      "11\n",
      "10\n"
     ]
    }
   ],
   "source": [
    "for x in range(20,9,-1):\n",
    "    print(x)"
   ]
  },
  {
   "cell_type": "code",
   "execution_count": 22,
   "metadata": {},
   "outputs": [
    {
     "name": "stdout",
     "output_type": "stream",
     "text": [
      "15 * 1  =  15\n",
      "15 * 2  =  30\n",
      "15 * 3  =  45\n",
      "15 * 4  =  60\n",
      "15 * 5  =  75\n",
      "15 * 6  =  90\n",
      "15 * 7  =  105\n",
      "15 * 8  =  120\n",
      "15 * 9  =  135\n",
      "15 * 10  =  150\n"
     ]
    }
   ],
   "source": [
    "#assignment\n",
    "'''o/p  15 * 1 = 15\n",
    "        15 * 2 = 30\n",
    "        .....\n",
    "        \n",
    "        15 * 10 = 150\n",
    "'''\n",
    "for x in range(1,11):\n",
    "    print('15 *',x,' = ',15*x)\n"
   ]
  },
  {
   "cell_type": "code",
   "execution_count": 23,
   "metadata": {},
   "outputs": [
    {
     "name": "stdout",
     "output_type": "stream",
     "text": [
      "15 * 10  =  150\n",
      "15 * 9  =  135\n",
      "15 * 8  =  120\n",
      "15 * 7  =  105\n",
      "15 * 6  =  90\n",
      "15 * 5  =  75\n",
      "15 * 4  =  60\n",
      "15 * 3  =  45\n",
      "15 * 2  =  30\n",
      "15 * 1  =  15\n"
     ]
    }
   ],
   "source": [
    "for x in range(10,0,-1):\n",
    "    print('15 *',x,' = ',15*x)"
   ]
  },
  {
   "cell_type": "code",
   "execution_count": 24,
   "metadata": {},
   "outputs": [
    {
     "name": "stdout",
     "output_type": "stream",
     "text": [
      "Enter a number2\n",
      "2  * 1  =  2\n",
      "2  * 2  =  4\n",
      "2  * 3  =  6\n",
      "2  * 4  =  8\n",
      "2  * 5  =  10\n",
      "2  * 6  =  12\n",
      "2  * 7  =  14\n",
      "2  * 8  =  16\n",
      "2  * 9  =  18\n",
      "2  * 10  =  20\n"
     ]
    }
   ],
   "source": [
    "i=int(input(\"Enter a number\"))\n",
    "for x in range(1,11):\n",
    "    print(i,' *',x,' = ',i*x)"
   ]
  },
  {
   "cell_type": "code",
   "execution_count": 25,
   "metadata": {},
   "outputs": [
    {
     "name": "stdout",
     "output_type": "stream",
     "text": [
      "sum is  250\n"
     ]
    }
   ],
   "source": [
    "#function may or may not return a value\n",
    "def add(num1,num2):\n",
    "    return num1 +num2\n",
    "\n",
    "sum = add(100,150)\n",
    "print('sum is ',sum)"
   ]
  },
  {
   "cell_type": "code",
   "execution_count": 1,
   "metadata": {},
   "outputs": [
    {
     "name": "stdout",
     "output_type": "stream",
     "text": [
      "simple interst=  16.0\n"
     ]
    }
   ],
   "source": [
    "#program to calculate simple interest\n",
    "def si(p,r,t):\n",
    "    return(p*r*t/100)\n",
    "\n",
    "sim=si(100,8,2)\n",
    "print('simple interst= ',sim)"
   ]
  },
  {
   "cell_type": "code",
   "execution_count": 9,
   "metadata": {},
   "outputs": [
    {
     "name": "stdout",
     "output_type": "stream",
     "text": [
      "enter amount1000\n",
      "discount  900.0\n"
     ]
    }
   ],
   "source": [
    "def disc(amount):\n",
    "    if amount>30000:\n",
    "        return(amount-(30*amount/100))\n",
    "    elif 20000<amount<30000:\n",
    "        return(amount-(20*amount/100))\n",
    "    else:\n",
    "        return(amount-(10*amount/100))\n",
    "\n",
    "di=disc(int(input(\"enter amount\")))\n",
    "print('discount ',di)"
   ]
  },
  {
   "cell_type": "code",
   "execution_count": 12,
   "metadata": {},
   "outputs": [
    {
     "name": "stdout",
     "output_type": "stream",
     "text": [
      "enter the meter reading320\n",
      "660\n"
     ]
    }
   ],
   "source": [
    "def ec(unit):\n",
    "    if unit<=100:\n",
    "        return 1*unit\n",
    "    elif 100<unit<=200:\n",
    "        return 100+(unit-100)*2\n",
    "    else:\n",
    "        return 300+(unit-200)*3\n",
    "\n",
    "amount=ec(int(input(\"enter the meter reading\")))\n",
    "print(amount)"
   ]
  },
  {
   "cell_type": "code",
   "execution_count": 16,
   "metadata": {},
   "outputs": [
    {
     "name": "stdout",
     "output_type": "stream",
     "text": [
      "enter a number11\n",
      "it is a prime\n"
     ]
    }
   ],
   "source": [
    "num=int(input(\"enter a number\"))\n",
    "if num>1:\n",
    "    for i in range(2,num):\n",
    "        if (num/2)%i == 0:\n",
    "            print(\"it not is prime\")\n",
    "            break;\n",
    "        else:\n",
    "            print(\"it is a prime\")\n",
    "            break;\n",
    "else:\n",
    "    print(num,\"not a prime\" )"
   ]
  },
  {
   "cell_type": "code",
   "execution_count": 3,
   "metadata": {},
   "outputs": [
    {
     "name": "stdout",
     "output_type": "stream",
     "text": [
      "enter a number123\n",
      "sum of digit 6\n"
     ]
    }
   ],
   "source": [
    "sum=0\n",
    "num=int(input(\"enter a number\"))\n",
    "\n",
    "while num>0:\n",
    "    sum=(num%10)+sum\n",
    "    num=num/10\n",
    "    num=int(num)\n",
    "    \n",
    "print(\"sum of digit\",sum)"
   ]
  },
  {
   "cell_type": "code",
   "execution_count": 7,
   "metadata": {},
   "outputs": [
    {
     "name": "stdout",
     "output_type": "stream",
     "text": [
      "enter a number123\n",
      "reverse of number 321\n"
     ]
    }
   ],
   "source": [
    "num=int(input(\"enter a number\"))\n",
    "sum=0\n",
    "\n",
    "while num>0:\n",
    "    sum=(num%10)+(sum*10)\n",
    "    num/=10\n",
    "    num=int(num)\n",
    "    \n",
    "print(\"reverse of number\",sum)"
   ]
  },
  {
   "cell_type": "code",
   "execution_count": null,
   "metadata": {},
   "outputs": [],
   "source": []
  }
 ],
 "metadata": {
  "kernelspec": {
   "display_name": "Python 3",
   "language": "python",
   "name": "python3"
  },
  "language_info": {
   "codemirror_mode": {
    "name": "ipython",
    "version": 3
   },
   "file_extension": ".py",
   "mimetype": "text/x-python",
   "name": "python",
   "nbconvert_exporter": "python",
   "pygments_lexer": "ipython3",
   "version": "3.7.0"
  }
 },
 "nbformat": 4,
 "nbformat_minor": 2
}
